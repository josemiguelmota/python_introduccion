{
 "metadata": {
  "name": ""
 },
 "nbformat": 3,
 "nbformat_minor": 0,
 "worksheets": [
  {
   "cells": [
    {
     "cell_type": "markdown",
     "metadata": {},
     "source": [
      "# Decoradores\n",
      "Como vamos a utilizar decoradores con e framework Flask, vamos a ver que como se utiliza este patr\u00f3n estructural, que sirve para solucionar problemas de composici\u00f3n(agregaci\u00f3n) de objetos. Una buena definici\u00f3n podr\u00eda ser:\n",
      "\n",
      "> \"In general, a decorator is a function that takes a function as its sole argument and returns a new function with the same name as the original function but with enhanced functionality. Decorators are often used by frameworks (e.g., web frameworks) to make it easy to integrate our own functions within the\n",
      "framework.\""
     ]
    },
    {
     "cell_type": "markdown",
     "metadata": {},
     "source": [
      "##Funciones\n",
      "Hemos visto que podemos declarar funciones en Python, y debemos tener claro el \u00e1mbito de las variables que se utilizan en esta para ello vamos a utilizar las funciones **locals() y globals()** funciones del Inteprete de Python.\n",
      "\n",
      "M\u00e1s informaci\u00f3n en la [web](https://docs.python.org/2/library/functions.html)\n"
     ]
    },
    {
     "cell_type": "code",
     "collapsed": false,
     "input": [
      "def funcion():\n",
      "    return 1\n",
      "\n",
      "funcion()"
     ],
     "language": "python",
     "metadata": {},
     "outputs": []
    },
    {
     "cell_type": "code",
     "collapsed": false,
     "input": [
      "a_string = \"es una variable global\"\n",
      "def foo():\n",
      "    b_string = \"es una variable local\"\n",
      "    print \"Dentro de la funci\u00f3n\"\n",
      "    print locals()\n",
      "    print globals()\n",
      "\n",
      "foo()\n",
      "print \"\\n\\n\\nFuera de la funci\u00f3n\"\n",
      "print locals()\n",
      "print globals()\n"
     ],
     "language": "python",
     "metadata": {},
     "outputs": []
    },
    {
     "cell_type": "code",
     "collapsed": false,
     "input": [
      "a_string = \"es una variable global\"\n",
      "def foo():\n",
      "    a_string = \"es una variable local\"\n",
      "    print a_string\n",
      "\n",
      "foo()\n",
      "print a_string\n"
     ],
     "language": "python",
     "metadata": {},
     "outputs": []
    },
    {
     "cell_type": "markdown",
     "metadata": {},
     "source": [
      "> Pero el entorno de la funci\u00f3n es creado cada vez que se llama y se destruye cuando la funci\u00f3n termina\n"
     ]
    },
    {
     "cell_type": "code",
     "collapsed": false,
     "input": [
      "def funcion():\n",
      "    x = 1\n",
      "    \n",
      "funcion()\n",
      "print x # X ya no existe"
     ],
     "language": "python",
     "metadata": {},
     "outputs": []
    },
    {
     "cell_type": "markdown",
     "metadata": {},
     "source": [
      "> Tambi\u00e9n es importante trabajar de manera correcta con los paremtros. \u00bfCual de las siguientes funciones falla?\n"
     ]
    },
    {
     "cell_type": "code",
     "collapsed": false,
     "input": [
      "def funcion(x, y=0):\n",
      "    return x - y\n",
      "\n",
      "#Opcion 1\n",
      "print \"opcion 1: \", funcion(6,2)\n",
      "\n",
      "#Opcion 2\n",
      "print \"opcion 2: \", funcion(6)\n",
      "\n",
      "#Opcion 3\n",
      "print \"opcion 3: \", funcion()\n",
      "\n",
      "#Opcion 4\n",
      "print \"opcion 4: \", funcion(y = 2, x = 6)\n",
      "\n"
     ],
     "language": "python",
     "metadata": {},
     "outputs": []
    },
    {
     "cell_type": "markdown",
     "metadata": {},
     "source": [
      "> Python permite la definici\u00f3n de funciones anidadadas"
     ]
    },
    {
     "cell_type": "code",
     "collapsed": false,
     "input": [
      "def outer():\n",
      "    x = 1\n",
      "    def inner():\n",
      "        print x\n",
      "    inner()\n",
      "    \n",
      "outer()"
     ],
     "language": "python",
     "metadata": {},
     "outputs": []
    },
    {
     "cell_type": "markdown",
     "metadata": {},
     "source": [
      "> Y el paso de funciones como pa\u0155ametros\n"
     ]
    },
    {
     "cell_type": "code",
     "collapsed": false,
     "input": [
      "def add(x,y):\n",
      "    return x + y\n",
      "\n",
      "def sub(x,y):\n",
      "    return x - y\n",
      "\n",
      "def aplicar(funcion, x, y):\n",
      "    return funcion(x,y)\n",
      "\n",
      "print aplicar(add,2,3)\n",
      "print aplicar(sub,6,2)"
     ],
     "language": "python",
     "metadata": {},
     "outputs": []
    },
    {
     "cell_type": "code",
     "collapsed": false,
     "input": [
      "def outer(x):\n",
      "    def inner():\n",
      "        print x\n",
      "    return inner\n",
      "\n",
      "print1 = outer(1)\n",
      "print2 = outer(2)\n",
      "\n",
      "print1()\n",
      "print2()"
     ],
     "language": "python",
     "metadata": {},
     "outputs": []
    },
    {
     "cell_type": "markdown",
     "metadata": {},
     "source": [
      "## Closures\n",
      "> Defincion: Python supports a feature called function **closures** which means that inner functions defined in non-global scope **remember what their enclosing** namespaces looked like at definition time.\n",
      "\n",
      "We have a closure in Python when a nested function references a value in its enclosing scope. The criteria that must be met to create closure in Python are summarized in the following points.\n",
      "\n",
      "+ We must have a nested function (function inside a function).\n",
      "+ The nested function must refer to a value defined in the enclosing function.\n",
      "+ The enclosing function must return the nested function."
     ]
    },
    {
     "cell_type": "code",
     "collapsed": false,
     "input": [
      "def outer(x):\n",
      "    def incremento(y):\n",
      "        return x + y\n",
      "    return incremento\n",
      "\n",
      "uno = outer(2)\n",
      "print uno(3) # \u00bfQue pasa aqu\u00ed?"
     ],
     "language": "python",
     "metadata": {},
     "outputs": []
    },
    {
     "cell_type": "code",
     "collapsed": false,
     "input": [
      "#Otro ejemplo\n",
      "\n",
      "def multiplicacionx(multiplo):\n",
      "    def multiplicar(valor):\n",
      "        return multiplo * valor\n",
      "    return multiplicar\n",
      "\n",
      "por5 = multiplicacionx(5)\n",
      "por2 = multiplicacionx(2)\n",
      "\n",
      "print por5(3)\n",
      "print por2(3)\n"
     ],
     "language": "python",
     "metadata": {},
     "outputs": []
    },
    {
     "cell_type": "markdown",
     "metadata": {},
     "source": [
      "## Decoradores\n",
      "A decorator is just a callable that takes a function as an argument and returns a replacement function. In general, a decorator is a function that takes a function as its sole argument and returns a new function with the same name as the original function but with enhanced functionality\n",
      "\n",
      "[Decoradores](https://drive.google.com/open?id=0Bz78TNF01dKwN2RsRlVJZTVVa3c&authuser=0)\n",
      "\n"
     ]
    },
    {
     "cell_type": "code",
     "collapsed": false,
     "input": [
      "#Primer ejemplo\n",
      "\n",
      "def decorador(funcion):\n",
      "    def interna(y):\n",
      "        print \"Resultado es:\",  funcion(y)\n",
      "        \n",
      "    return interna\n",
      "\n",
      "def adecorar(x):\n",
      "    return x * 3\n",
      "\n",
      "fDecorada= decorador(adecorar)\n",
      "fDecorada(8)\n"
     ],
     "language": "python",
     "metadata": {},
     "outputs": []
    },
    {
     "cell_type": "code",
     "collapsed": false,
     "input": [
      "#Segundo ejemplo\n",
      "# En este caso utilizamos ya la funcion que hemos creado para definir que es un decorador\n",
      "\n",
      "def newDecorador(funcion):\n",
      "    def interna(y):\n",
      "        print \"Resultado es:\",  funcion(y)\n",
      "        \n",
      "    return interna\n",
      "\n",
      "@newDecorador\n",
      "def adecorado2(x):\n",
      "    return x * 4\n",
      "\n",
      "fDecorada2 = adecorado2(4)\n"
     ],
     "language": "python",
     "metadata": {},
     "outputs": []
    },
    {
     "cell_type": "code",
     "collapsed": false,
     "input": [
      "#Tercer ejemplo\n",
      "class myDecorator(object):\n",
      "\n",
      "    def __init__(self, f):\n",
      "        print \"inside myDecorator.__init__()\"\n",
      "        f() # Prove that function definition has completed\n",
      "\n",
      "    def __call__(self):\n",
      "        print \"inside myDecorator.__call__()\"\n",
      "        \n",
      "    \n",
      "\n",
      "@myDecorator\n",
      "def aFunction():\n",
      "    print \"inside aFunction()\"\n",
      "\n",
      "print \"Finished decorating aFunction()\"\n",
      "\n",
      "aFunction()"
     ],
     "language": "python",
     "metadata": {},
     "outputs": []
    },
    {
     "cell_type": "markdown",
     "metadata": {},
     "source": [
      "> A tener en cuenta que usamos _ _ init _ _ para que se ejecute cuando se crea el objeto por primera vez, y _ _ call _ _ pues al **estar decorado** es llamado en vez del c\u00f3digo original"
     ]
    },
    {
     "cell_type": "markdown",
     "metadata": {},
     "source": [
      "Enlaces:\n",
      "+ [Decoradores](http://simeonfranklin.com/blog/2012/jul/1/python-decorators-in-12-steps/)\n",
      "+ [Decoradores](https://www.artima.com/weblogs/viewpost.jsp?thread=240808)"
     ]
    }
   ],
   "metadata": {}
  }
 ]
}