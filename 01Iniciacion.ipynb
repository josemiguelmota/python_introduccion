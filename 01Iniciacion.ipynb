{
 "metadata": {
  "name": ""
 },
 "nbformat": 3,
 "nbformat_minor": 0,
 "worksheets": [
  {
   "cells": [
    {
     "cell_type": "markdown",
     "metadata": {},
     "source": [
      "# Introducci\u00f3n a Python\n",
      "----\n",
      "### En este Notebook realizaremos una presentaci\u00f3n de los conceptos m\u00e1s importantes de Python.\n",
      "\n",
      "\n",
      "## Datos de Python\n",
      "----\n",
      "+ Basado en el lenguaje Haske\n",
      "+ Multiparadigma: POO, P. Estruturada, P. funcional y P. orientada a Aspectos\n",
      "+ Creado por Guido van Rossum en 1990\n",
      "+  Lenguaje modular y de alto nivel\n",
      "+ Lenguaje interpretado\n",
      "+  Su sintaxis es simple\n",
      "+ Multiplataforma\n",
      "+  Su nombre hace referencia al grupo ingl\u00e9s \u201cThe Monty Python\u201d\n",
      "+ Muy adecuado para manejar archivos de texto. Similar a Perl pero con una sintaxis m\u00e1s simple y legible.\n",
      "\n",
      "\n",
      "\n",
      "## Importante\n",
      "----\n",
      "> + **TIPADO DIN\u00c1MICO:** Esto significa que NO NECESITAMOS declarar previamente el tipo de dato de una variable, sino que su tipo se determinar\u00e1 en tiempo de ejecuci\u00f3n\n"
     ]
    },
    {
     "cell_type": "code",
     "collapsed": false,
     "input": [
      "tipo_texto = \"Esto es un texto\"\n",
      "tipo_numerico = 2\n",
      "tipo_boolean = False\n",
      "\n",
      "print type(tipo_texto)\n",
      "print type(tipo_numerico)\n",
      "print type(tipo_boolean)"
     ],
     "language": "python",
     "metadata": {},
     "outputs": []
    },
    {
     "cell_type": "markdown",
     "metadata": {},
     "source": [
      "> + **FUERTEMENTE TIPADO**: Lo cual quiere decir que No se puede tratar una variable como si fuera de otro tipo"
     ]
    },
    {
     "cell_type": "code",
     "collapsed": true,
     "input": [
      "numero = 2\n",
      "cadena = \"2\"\n",
      "total = numero + cadena"
     ],
     "language": "python",
     "metadata": {},
     "outputs": []
    },
    {
     "cell_type": "code",
     "collapsed": false,
     "input": [
      "total = numero + int(cadena)\n",
      "print total"
     ],
     "language": "python",
     "metadata": {},
     "outputs": []
    },
    {
     "cell_type": "markdown",
     "metadata": {},
     "source": [
      "> + **INDENTACI\u00d3N**: La identaci\u00f3n es significativa, pues es la manera de definir los bloques, aunque es recomendable utilizar 4 espacios. Si utilizamos un editor deber\u00edamos configurarlo para que nos cambiara las tabulaciones por 4 espacios.\n"
     ]
    },
    {
     "cell_type": "code",
     "collapsed": false,
     "input": [
      "for i in range(4):\n",
      "    print \"miguel\"\n",
      "print \"luis\""
     ],
     "language": "python",
     "metadata": {},
     "outputs": [
      {
       "output_type": "stream",
       "stream": "stdout",
       "text": [
        "miguel\n",
        "miguel\n",
        "miguel\n",
        "miguel\n",
        "luis\n"
       ]
      }
     ],
     "prompt_number": 24
    },
    {
     "cell_type": "code",
     "collapsed": false,
     "input": [
      "for i in range(4):\n",
      "print \"miguel\"\n",
      "print \"luis\""
     ],
     "language": "python",
     "metadata": {},
     "outputs": [
      {
       "ename": "IndentationError",
       "evalue": "expected an indented block (<ipython-input-25-77f04d5a3da1>, line 2)",
       "output_type": "pyerr",
       "traceback": [
        "\u001b[0;36m  File \u001b[0;32m\"<ipython-input-25-77f04d5a3da1>\"\u001b[0;36m, line \u001b[0;32m2\u001b[0m\n\u001b[0;31m    print \"miguel\"\u001b[0m\n\u001b[0m        ^\u001b[0m\n\u001b[0;31mIndentationError\u001b[0m\u001b[0;31m:\u001b[0m expected an indented block\n"
       ]
      }
     ],
     "prompt_number": 25
    },
    {
     "cell_type": "markdown",
     "metadata": {},
     "source": [
      "## Ficheros y ejecuci\u00f3n\n",
      "----\n",
      "> + **Modo comando**: Se invoca escribiendo el comando *python*. Los resultados se obtienen de manera interactiva y  se utiliza para realizar pruebas\n",
      "> + **Modo gui\u00f3n**: Se crea el c\u00f3digo en un editor y se guarda en un fichero con la extension *.py*. Se invoca colocando el nombre detras de *python* o dentro del interprete de comando"
     ]
    }
   ],
   "metadata": {}
  }
 ]
}