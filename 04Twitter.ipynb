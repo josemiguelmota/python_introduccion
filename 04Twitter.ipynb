{
 "metadata": {
  "name": ""
 },
 "nbformat": 3,
 "nbformat_minor": 0,
 "worksheets": [
  {
   "cells": [
    {
     "cell_type": "markdown",
     "metadata": {},
     "source": [
      "# Twitter\n",
      "Para esta parte os recomiendo primero seguir la informmaci\u00f3n del libro Data Mining Social Web, el cap\u00edtulo referente a Twitter [enlace](http://nbviewer.ipython.org/github/ptwobrussell/Mining-the-Social-Web/blob/master/ipython_notebooks/Chapter1.ipynb). Luego os adjunto algunas cosas interesantes."
     ]
    },
    {
     "cell_type": "code",
     "collapsed": false,
     "input": [
      "#Es bueno crearse un m\u00f3dulo en el que est\u00e9n las funciones que m\u00e1s vais a utilizar\n",
      "#en el trabajo con el API de Twitter, como puede ser la conexi\u00f3n o la b\u00fasqueda\n",
      "#de datos\n",
      "#\n",
      "#Todo el c\u00f3digo de esta parte podr\u00eda ir en un m\u00f3dulo parte llamado por ejemplo twitterAPI\n",
      "__author__ = 'miguel'\n",
      "import twitter\n",
      "import io\n",
      "import json\n",
      "\n",
      "#Funci\u00f3n para la conexi\u00f3n.\n",
      "def oauth_login():\n",
      "    CONSUMER_KEY = ''\n",
      "    CONSUMER_SECRET = ''\n",
      "    OAUTH_TOKEN = ''\n",
      "    OAUTH_TOKEN_SECRET = ''\n",
      "\n",
      "    auth = twitter.oauth.OAuth(OAUTH_TOKEN, OAUTH_TOKEN_SECRET, CONSUMER_KEY, CONSUMER_SECRET)\n",
      "\n",
      "    twitter_api = twitter.Twitter(auth=auth)\n",
      "    return twitter_api\n",
      "\n",
      "#Funci\u00f3n para grabar la informaci\u00f3n en formato JSON\n",
      "def save_json(filename, data):\n",
      "    with io.open('{0}.json'.format(filename),'w', encoding='utf-8') as f:\n",
      "        f.write(unicode(json.dumps(data, ensure_ascii=False)))\n",
      "\n",
      "#Funci\u00f3n para leer el fichero JSON\n",
      "def load_json(filename):\n",
      "    with io.open('{0}.json'.format(filename),encoding='utf-8') as f:\n",
      "        return f.read()"
     ],
     "language": "python",
     "metadata": {},
     "outputs": []
    },
    {
     "cell_type": "code",
     "collapsed": false,
     "input": [
      "#Esto ya pod\u0155ia ir en otro fichero con un import al fichero anteriormente creado\n",
      "twitter_api =  oauth_login()\n",
      "\n",
      "#Defino C\u00e1diz como  punto de localizaci\u00f3n de la informaci\u00f3n.\n",
      "SPAIN_WOE_ID =  23424950\n",
      "\n",
      "spain_trends = twitter_api.trends.place(_id=SPAIN_WOE_ID)\n",
      "print json.dumps(spain_trends, indent = 1)"
     ],
     "language": "python",
     "metadata": {},
     "outputs": []
    },
    {
     "cell_type": "code",
     "collapsed": false,
     "input": [
      "# Como sab\u00e9is hay un l\u00edmite en el n\u00famero de llamadas\n",
      "# que podemos hacer al API de Twitter por lo que es recomendable\n",
      "# almacenarlo en un fichero\n",
      "\n",
      "save_json('spainmore', spain_trends)"
     ],
     "language": "python",
     "metadata": {},
     "outputs": []
    },
    {
     "cell_type": "code",
     "collapsed": false,
     "input": [
      "# Luego si queremos podemos recuperarlo para trabajar con los datos \n",
      "recover_data = load_json('spainmore')\n",
      "\n",
      "# Vamos a ver si lo ha recuperado correctamente\n",
      "print json.dumps(recover_data, indent=1)"
     ],
     "language": "python",
     "metadata": {},
     "outputs": []
    },
    {
     "cell_type": "code",
     "collapsed": false,
     "input": [
      "# Vamos a extraer las consultas solamente de los tweets\n",
      "\n",
      "datos = json.loads(open('spainmore.json').read())\n",
      "consultas =  [ status['query']\n",
      "                 for status in datos[0]['trends'] ]\n",
      "\n",
      "print json.dumps(consultas, indent = 1)"
     ],
     "language": "python",
     "metadata": {},
     "outputs": []
    },
    {
     "cell_type": "code",
     "collapsed": false,
     "input": [],
     "language": "python",
     "metadata": {},
     "outputs": []
    }
   ],
   "metadata": {}
  }
 ]
}