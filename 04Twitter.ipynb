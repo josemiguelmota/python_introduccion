{
 "metadata": {
  "name": ""
 },
 "nbformat": 3,
 "nbformat_minor": 0,
 "worksheets": [
  {
   "cells": [
    {
     "cell_type": "markdown",
     "metadata": {},
     "source": [
      "# Twitter\n",
      "Para esta parte os recomiendo primero seguir la informmaci\u00f3n del libro Data Mining Social Web, el cap\u00edtulo referente a Twitter [enlace](http://nbviewer.ipython.org/github/ptwobrussell/Mining-the-Social-Web/blob/master/ipython_notebooks/Chapter1.ipynb). Luego os adjunto algunas cosas interesantes."
     ]
    },
    {
     "cell_type": "code",
     "collapsed": false,
     "input": [
      "#Es bueno crearse un m\u00f3dulo en el que est\u00e9n las funciones que m\u00e1s vais a utilizar\n",
      "#en el trabajo con el API de Twitter, como puede ser la conexi\u00f3n o la b\u00fasqueda\n",
      "#de datos\n",
      "#\n",
      "#Todo el c\u00f3digo de esta parte podr\u00eda ir en un m\u00f3dulo parte llamado por ejemplo twitterAPI\n",
      "__author__ = 'miguel'\n",
      "import twitter\n",
      "import io\n",
      "import json\n",
      "\n",
      "#Funci\u00f3n para la conexi\u00f3n.\n",
      "def oauth_login():\n",
      "    CONSUMER_KEY = 'vWRIn7cDDPqwNg0jpz9ej8klZ'\n",
      "    CONSUMER_SECRET = 'UzQznpC8o3ylUfcbYhKwV6Kt3MoDOgnSxu9Jnn3tmEbKTaHRZe'\n",
      "    OAUTH_TOKEN = '7730092-BvcE6lKJs8455JE8hyEhYHKXHX5g9X05izuuU47qIX'\n",
      "    OAUTH_TOKEN_SECRET = 'xGzotzBjBImJNDLAogP60jb3GVlRnp3M9jtp3QSFgJDAI'\n",
      "\n",
      "    auth = twitter.oauth.OAuth(OAUTH_TOKEN, OAUTH_TOKEN_SECRET, CONSUMER_KEY, CONSUMER_SECRET)\n",
      "\n",
      "    twitter_api = twitter.Twitter(auth=auth)\n",
      "    return twitter_api\n",
      "\n",
      "#Funci\u00f3n para grabar la informaci\u00f3n en formato JSON\n",
      "def save_json(filename, data):\n",
      "    with io.open('{0}.json'.format(filename),'w', encoding='utf-8') as f:\n",
      "        f.write(unicode(json.dumps(data, ensure_ascii=False)))\n",
      "\n",
      "#Funci\u00f3n para leer el fichero JSON\n",
      "def load_json(filename):\n",
      "    with io.open('{0}.json'.format(filename),encoding='utf-8') as f:\n",
      "        return f.read()"
     ],
     "language": "python",
     "metadata": {},
     "outputs": [],
     "prompt_number": 13
    },
    {
     "cell_type": "code",
     "collapsed": false,
     "input": [
      "#Esto ya pod\u0155ia ir en otro fichero con un import al fichero anteriormente creado\n",
      "twitter_api =  oauth_login()\n",
      "\n",
      "#Defino C\u00e1diz como  punto de localizaci\u00f3n de la informaci\u00f3n.\n",
      "SPAIN_WOE_ID =  23424950recover_data\n",
      "spain_trends = twitter_api.trends.place(_id=SPAIN_WOE_ID)\n",
      "print json.dumps(spain_trends, indent = 1)"
     ],
     "language": "python",
     "metadata": {},
     "outputs": [
      {
       "output_type": "stream",
       "stream": "stdout",
       "text": [
        "[\n",
        " {\n",
        "  \"created_at\": \"2015-04-06T08:47:51Z\", \n",
        "  \"trends\": [\n",
        "   {\n",
        "    \"url\": \"http://twitter.com/search?q=%23FelizLunes\", \n",
        "    \"query\": \"%23FelizLunes\", \n",
        "    \"name\": \"#FelizLunes\", \n",
        "    \"promoted_content\": null\n",
        "   }, \n",
        "   {\n",
        "    \"url\": \"http://twitter.com/search?q=%23paro\", \n",
        "    \"query\": \"%23paro\", \n",
        "    \"name\": \"#paro\", \n",
        "    \"promoted_content\": null\n",
        "   }, \n",
        "   {\n",
        "    \"url\": \"http://twitter.com/search?q=%23RajoyRNE\", \n",
        "    \"query\": \"%23RajoyRNE\", \n",
        "    \"name\": \"#RajoyRNE\", \n",
        "    \"promoted_content\": null\n",
        "   }, \n",
        "   {\n",
        "    \"url\": \"http://twitter.com/search?q=%22Seguridad+Social%22\", \n",
        "    \"query\": \"%22Seguridad+Social%22\", \n",
        "    \"name\": \"Seguridad Social\", \n",
        "    \"promoted_content\": null\n",
        "   }, \n",
        "   {\n",
        "    \"url\": \"http://twitter.com/search?q=%23DMAF2015\", \n",
        "    \"query\": \"%23DMAF2015\", \n",
        "    \"name\": \"#DMAF2015\", \n",
        "    \"promoted_content\": null\n",
        "   }, \n",
        "   {\n",
        "    \"url\": \"http://twitter.com/search?q=%23QuieroUnHTCOneM9\", \n",
        "    \"query\": \"%23QuieroUnHTCOneM9\", \n",
        "    \"name\": \"#QuieroUnHTCOneM9\", \n",
        "    \"promoted_content\": null\n",
        "   }, \n",
        "   {\n",
        "    \"url\": \"http://twitter.com/search?q=%22David+Lynch%22\", \n",
        "    \"query\": \"%22David+Lynch%22\", \n",
        "    \"name\": \"David Lynch\", \n",
        "    \"promoted_content\": null\n",
        "   }, \n",
        "   {\n",
        "    \"url\": \"http://twitter.com/search?q=%22PP+la+Comunidad+Valenciana%22\", \n",
        "    \"query\": \"%22PP+la+Comunidad+Valenciana%22\", \n",
        "    \"name\": \"PP la Comunidad Valenciana\", \n",
        "    \"promoted_content\": null\n",
        "   }, \n",
        "   {\n",
        "    \"url\": \"http://twitter.com/search?q=%22El+PIB%22\", \n",
        "    \"query\": \"%22El+PIB%22\", \n",
        "    \"name\": \"El PIB\", \n",
        "    \"promoted_content\": null\n",
        "   }, \n",
        "   {\n",
        "    \"url\": \"http://twitter.com/search?q=%22Mario+Camus%22\", \n",
        "    \"query\": \"%22Mario+Camus%22\", \n",
        "    \"name\": \"Mario Camus\", \n",
        "    \"promoted_content\": null\n",
        "   }\n",
        "  ], \n",
        "  \"as_of\": \"2015-04-06T08:50:53Z\", \n",
        "  \"locations\": [\n",
        "   {\n",
        "    \"woeid\": 23424950, \n",
        "    \"name\": \"Spain\"\n",
        "   }\n",
        "  ]\n",
        " }\n",
        "]\n"
       ]
      }
     ],
     "prompt_number": 15
    },
    {
     "cell_type": "code",
     "collapsed": false,
     "input": [
      "# Como sab\u00e9is hay un l\u00edmite en el n\u00famero de llamadas\n",
      "# que podemos hacer al API de Twitter por lo que es recomendable\n",
      "# almacenarlo en un fichero\n",
      "\n",
      "save_json('spainmore', spain_trends)"
     ],
     "language": "python",
     "metadata": {},
     "outputs": [],
     "prompt_number": 16
    },
    {
     "cell_type": "code",
     "collapsed": false,
     "input": [
      "# Luego si queremos podemos recuperarlo para trabajar con los datos \n",
      "recover_data = load_json('spainmore')\n",
      "\n",
      "# Vamos a ver si lo ha recuperado correctamente\n",
      "print json.dumps(recover_data, indent=1)"
     ],
     "language": "python",
     "metadata": {},
     "outputs": []
    },
    {
     "cell_type": "code",
     "collapsed": false,
     "input": [
      "# Vamos a extraer las consultas solamente de los tweets\n",
      "\n",
      "datos = json.loads(open('spainmore.json').read())\n",
      "consultas =  [ status['query']\n",
      "                 for status in datos[0]['trends'] ]\n",
      "\n",
      "print json.dumps(consultas, indent = 1)"
     ],
     "language": "python",
     "metadata": {},
     "outputs": [
      {
       "output_type": "stream",
       "stream": "stdout",
       "text": [
        "[\n",
        " \"%23FelizLunes\", \n",
        " \"%23paro\", \n",
        " \"%23RajoyRNE\", \n",
        " \"%22Seguridad+Social%22\", \n",
        " \"%23DMAF2015\", \n",
        " \"%23QuieroUnHTCOneM9\", \n",
        " \"%22David+Lynch%22\", \n",
        " \"%22PP+la+Comunidad+Valenciana%22\", \n",
        " \"%22El+PIB%22\", \n",
        " \"%22Mario+Camus%22\"\n",
        "]\n"
       ]
      }
     ],
     "prompt_number": 17
    },
    {
     "cell_type": "code",
     "collapsed": false,
     "input": [
      "#\n",
      "#\n",
      "#\n",
      "#\n",
      "\n",
      "q = '#paro'\n",
      "count = 100\n",
      "\n",
      "search_results = twitter_api.search.tweets(q=q, count=count)\n",
      "statuses = search_results['statuses']\n",
      "\n",
      "# Iterate through 5 more batches of results by following the cursor\n",
      "for _ in range(5):\n",
      "    print \"Length of statuses\", len(statuses)\n",
      "    try:\n",
      "        next_results = search_results['search_metadata']['next_results']\n",
      "    except KeyError, e: # No more results when next_results doesn't exist\n",
      "        break\n",
      "        \n",
      "# Create a dictionary from next_results, which has the following form:\n",
      "# ?max_id=313519052523986943&q=NCAA&include_entities=1\n",
      "    kwargs = dict([ kv.split('=') for kv in next_results[1:].split(\"&\") ])\n",
      "    search_results = twitter_api.search.tweets(**kwargs)\n",
      "    statuses += search_results['statuses']\n",
      "\n",
      "# Show one sample search result by slicing the list...\n",
      "save_json('lostrends', statuses)\n",
      "#print json.dumps(statuses[0], indent=1)\n",
      "untweet = statuses[0]\n",
      "print untweet['place']\n",
      "\n",
      "\n"
     ],
     "language": "python",
     "metadata": {},
     "outputs": [
      {
       "output_type": "stream",
       "stream": "stdout",
       "text": [
        "Length of statuses 100\n",
        "Length of statuses"
       ]
      },
      {
       "output_type": "stream",
       "stream": "stdout",
       "text": [
        " 200\n",
        "Length of statuses"
       ]
      },
      {
       "output_type": "stream",
       "stream": "stdout",
       "text": [
        " 200\n",
        "None"
       ]
      },
      {
       "output_type": "stream",
       "stream": "stdout",
       "text": [
        "\n"
       ]
      }
     ],
     "prompt_number": 34
    },
    {
     "cell_type": "code",
     "collapsed": false,
     "input": [],
     "language": "python",
     "metadata": {},
     "outputs": [
      {
       "ename": "TypeError",
       "evalue": "expected string or buffer",
       "output_type": "pyerr",
       "traceback": [
        "\u001b[0;31m---------------------------------------------------------------------------\u001b[0m\n\u001b[0;31mTypeError\u001b[0m                                 Traceback (most recent call last)",
        "\u001b[0;32m<ipython-input-23-de54d3319029>\u001b[0m in \u001b[0;36m<module>\u001b[0;34m()\u001b[0m\n\u001b[0;32m----> 1\u001b[0;31m \u001b[0mdict_statuses\u001b[0m \u001b[0;34m=\u001b[0m \u001b[0mjson\u001b[0m\u001b[0;34m.\u001b[0m\u001b[0mloads\u001b[0m\u001b[0;34m(\u001b[0m\u001b[0mstatuses\u001b[0m\u001b[0;34m)\u001b[0m\u001b[0;34m\u001b[0m\u001b[0m\n\u001b[0m",
        "\u001b[0;32m/usr/lib/python2.7/json/__init__.pyc\u001b[0m in \u001b[0;36mloads\u001b[0;34m(s, encoding, cls, object_hook, parse_float, parse_int, parse_constant, object_pairs_hook, **kw)\u001b[0m\n\u001b[1;32m    336\u001b[0m             \u001b[0mparse_int\u001b[0m \u001b[0;32mis\u001b[0m \u001b[0mNone\u001b[0m \u001b[0;32mand\u001b[0m \u001b[0mparse_float\u001b[0m \u001b[0;32mis\u001b[0m \u001b[0mNone\u001b[0m \u001b[0;32mand\u001b[0m\u001b[0;34m\u001b[0m\u001b[0m\n\u001b[1;32m    337\u001b[0m             parse_constant is None and object_pairs_hook is None and not kw):\n\u001b[0;32m--> 338\u001b[0;31m         \u001b[0;32mreturn\u001b[0m \u001b[0m_default_decoder\u001b[0m\u001b[0;34m.\u001b[0m\u001b[0mdecode\u001b[0m\u001b[0;34m(\u001b[0m\u001b[0ms\u001b[0m\u001b[0;34m)\u001b[0m\u001b[0;34m\u001b[0m\u001b[0m\n\u001b[0m\u001b[1;32m    339\u001b[0m     \u001b[0;32mif\u001b[0m \u001b[0mcls\u001b[0m \u001b[0;32mis\u001b[0m \u001b[0mNone\u001b[0m\u001b[0;34m:\u001b[0m\u001b[0;34m\u001b[0m\u001b[0m\n\u001b[1;32m    340\u001b[0m         \u001b[0mcls\u001b[0m \u001b[0;34m=\u001b[0m \u001b[0mJSONDecoder\u001b[0m\u001b[0;34m\u001b[0m\u001b[0m\n",
        "\u001b[0;32m/usr/lib/python2.7/json/decoder.pyc\u001b[0m in \u001b[0;36mdecode\u001b[0;34m(self, s, _w)\u001b[0m\n\u001b[1;32m    364\u001b[0m \u001b[0;34m\u001b[0m\u001b[0m\n\u001b[1;32m    365\u001b[0m         \"\"\"\n\u001b[0;32m--> 366\u001b[0;31m         \u001b[0mobj\u001b[0m\u001b[0;34m,\u001b[0m \u001b[0mend\u001b[0m \u001b[0;34m=\u001b[0m \u001b[0mself\u001b[0m\u001b[0;34m.\u001b[0m\u001b[0mraw_decode\u001b[0m\u001b[0;34m(\u001b[0m\u001b[0ms\u001b[0m\u001b[0;34m,\u001b[0m \u001b[0midx\u001b[0m\u001b[0;34m=\u001b[0m\u001b[0m_w\u001b[0m\u001b[0;34m(\u001b[0m\u001b[0ms\u001b[0m\u001b[0;34m,\u001b[0m \u001b[0;36m0\u001b[0m\u001b[0;34m)\u001b[0m\u001b[0;34m.\u001b[0m\u001b[0mend\u001b[0m\u001b[0;34m(\u001b[0m\u001b[0;34m)\u001b[0m\u001b[0;34m)\u001b[0m\u001b[0;34m\u001b[0m\u001b[0m\n\u001b[0m\u001b[1;32m    367\u001b[0m         \u001b[0mend\u001b[0m \u001b[0;34m=\u001b[0m \u001b[0m_w\u001b[0m\u001b[0;34m(\u001b[0m\u001b[0ms\u001b[0m\u001b[0;34m,\u001b[0m \u001b[0mend\u001b[0m\u001b[0;34m)\u001b[0m\u001b[0;34m.\u001b[0m\u001b[0mend\u001b[0m\u001b[0;34m(\u001b[0m\u001b[0;34m)\u001b[0m\u001b[0;34m\u001b[0m\u001b[0m\n\u001b[1;32m    368\u001b[0m         \u001b[0;32mif\u001b[0m \u001b[0mend\u001b[0m \u001b[0;34m!=\u001b[0m \u001b[0mlen\u001b[0m\u001b[0;34m(\u001b[0m\u001b[0ms\u001b[0m\u001b[0;34m)\u001b[0m\u001b[0;34m:\u001b[0m\u001b[0;34m\u001b[0m\u001b[0m\n",
        "\u001b[0;31mTypeError\u001b[0m: expected string or buffer"
       ]
      }
     ],
     "prompt_number": 23
    },
    {
     "cell_type": "code",
     "collapsed": false,
     "input": [],
     "language": "python",
     "metadata": {},
     "outputs": []
    }
   ],
   "metadata": {}
  }
 ]
}