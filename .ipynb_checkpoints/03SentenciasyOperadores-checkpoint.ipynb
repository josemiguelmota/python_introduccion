{
 "metadata": {
  "name": ""
 },
 "nbformat": 3,
 "nbformat_minor": 0,
 "worksheets": [
  {
   "cells": [
    {
     "cell_type": "markdown",
     "metadata": {},
     "source": [
      "> Una sentencia es una instrucci\u00f3n que puede ejecutar el int\u00e9rprete de Python.\n",
      "\n",
      "> ## ** Operadores Aritm\u00e9ticos **\n"
     ]
    },
    {
     "cell_type": "code",
     "collapsed": false,
     "input": [
      "# Suma \n",
      "r = 3+2\n",
      "print r\n",
      "# Resta\n",
      "r = 4-7\n",
      "print r\n",
      "# Multiplicaci\u00f3n\n",
      "r = 2*6\n",
      "print r\n",
      "# Exponente\n",
      "r = 2**6\n",
      "print r\n",
      "# Divisi\u00f3n \n",
      "r = 3/2\n",
      "print r\n",
      "# Divisi\u00f3n Decimal\n",
      "r = 3.5 / 2.0\n",
      "print r\n",
      "# Divisi\u00f3n con redondeo\n",
      "r = 3.5//2\n",
      "print r\n",
      "# M\u00f3dulo\n",
      "r = 7 % 2\n",
      "print r"
     ],
     "language": "python",
     "metadata": {},
     "outputs": [
      {
       "output_type": "stream",
       "stream": "stdout",
       "text": [
        "5\n",
        "-3\n",
        "12\n",
        "64\n",
        "1\n",
        "1.75\n",
        "1.0\n",
        "1\n"
       ]
      }
     ],
     "prompt_number": 5
    },
    {
     "cell_type": "markdown",
     "metadata": {},
     "source": [
      "> ## ** Objetos **\n",
      "> En Python todo son objetos, las variables son **nombres** de esos objetos, y que pueden tener atributos y operaciones (m\u00e9todos) asociados, seg\u00fan el tipo de objeto habr\u00e1 unos atributos u otros."
     ]
    },
    {
     "cell_type": "code",
     "collapsed": false,
     "input": [
      "# Cadena como objeto\n",
      "cadena = \"Hola Mundo\"\n",
      "print cadena.upper()\n",
      "print cadena.count('o')\n",
      "print cadena.count?\n"
     ],
     "language": "python",
     "metadata": {},
     "outputs": [
      {
       "output_type": "stream",
       "stream": "stdout",
       "text": [
        "HOLA MUNDO\n",
        "2\n"
       ]
      }
     ],
     "prompt_number": 13
    },
    {
     "cell_type": "markdown",
     "metadata": {},
     "source": [
      "## ** Editor de iPython **\n",
      "> + Historial de comandos, que pueden ser navegadas con las teclas de flechas hacia arriba y abajo.\n",
      "Autocompletaci\u00f3n de tabs.\n",
      "> + Edici\u00f3n de c\u00f3digo en l\u00ednea.\n",
      "> + Instrospecci\u00f3n de objetos, y extracci\u00f3n autom\u00e1tica de cadenas de documentaci\u00f3n a partir de objetos Python como clases y funciones.\n",
      "> + Buena interacci\u00f3n con la l\u00ednea de comandos del sistema operativo.\n",
      "> + Soporte de m\u00faltiples procesos paralelos back-end, que pueden ejecutarse en cluster computacionales o en servicios en la nube como Amazon EE2."
     ]
    },
    {
     "cell_type": "code",
     "collapsed": false,
     "input": [],
     "language": "python",
     "metadata": {},
     "outputs": []
    },
    {
     "cell_type": "markdown",
     "metadata": {},
     "source": [
      "## ** Sentencias Pass y With **\n",
      "> Python incorpora una sentencia especial para indicar que no se debe realizar ninguna acci\u00f3n. Se trata de pass y especialmente \u00fatil cuando deseamos indicar que no se haga nada en una sentencia que requiere otra.\n",
      "> + **pass ** cuando indicamos queremos indicar que no se haga nada, por ejemplo para crear estructuras de c\u00f3digos que luego iremos rellenando\n",
      "> + **with **  se utiliza con objetos que soportan el protocolo de manejador de contexto y garantiza que una o varias sentencias ser\u00e1n ejecutadas autom\u00e1ticamente. Esto nos ahorra muchas l\u00edneas de c\u00f3digo, a la vez que nos garantiza que ciertas operaciones ser\u00e1n realizadas sin que lo indiquemos expl\u00edcitamente\n"
     ]
    },
    {
     "cell_type": "code",
     "collapsed": false,
     "input": [
      "# ejemplo de pass que va a fallar\n",
      "for i in range(5):\n",
      "\n",
      "print \"Despues del for\""
     ],
     "language": "python",
     "metadata": {},
     "outputs": [
      {
       "ename": "IndentationError",
       "evalue": "expected an indented block (<ipython-input-15-a7a26d4630a8>, line 4)",
       "output_type": "pyerr",
       "traceback": [
        "\u001b[0;36m  File \u001b[0;32m\"<ipython-input-15-a7a26d4630a8>\"\u001b[0;36m, line \u001b[0;32m4\u001b[0m\n\u001b[0;31m    \u001b[0m\n\u001b[0m    ^\u001b[0m\n\u001b[0;31mIndentationError\u001b[0m\u001b[0;31m:\u001b[0m expected an indented block\n"
       ]
      }
     ],
     "prompt_number": 15
    },
    {
     "cell_type": "code",
     "collapsed": false,
     "input": [
      "# ejemplo de pass que va a funcionar\n",
      "for i in range(5):\n",
      "    pass\n",
      "\n",
      "print \"Despues del for\"\n"
     ],
     "language": "python",
     "metadata": {},
     "outputs": [
      {
       "output_type": "stream",
       "stream": "stdout",
       "text": [
        "Despues del for\n"
       ]
      }
     ],
     "prompt_number": 16
    },
    {
     "cell_type": "code",
     "collapsed": false,
     "input": [
      "# ejemplo de with, debemos tener un fichero llamado texto.txt para que funcione correctamente.\n",
      "with open(r'texto.txt') as myfile:\n",
      "    for line in myfile:\n",
      "        print(line)"
     ],
     "language": "python",
     "metadata": {},
     "outputs": [
      {
       "output_type": "stream",
       "stream": "stdout",
       "text": [
        "Este es el texto que se \n",
        "\n",
        "encuentra en el fichero\n",
        "\n",
        "no dejeis de ver las bondades\n",
        "\n",
        "de python.\n",
        "\n"
       ]
      }
     ],
     "prompt_number": 20
    },
    {
     "cell_type": "markdown",
     "metadata": {},
     "source": [
      "## ** Editor de iPython **\n",
      "> + Historial de comandos, que pueden ser navegadas con las teclas de flechas hacia arriba y abajo.\n",
      "Autocompletaci\u00f3n de tabs.\n",
      "> + Edici\u00f3n de c\u00f3digo en l\u00ednea.\n",
      "> + Instrospecci\u00f3n de objetos, y extracci\u00f3n autom\u00e1tica de cadenas de documentaci\u00f3n a partir de objetos Python como clases y funciones.\n",
      "> + Buena interacci\u00f3n con la l\u00ednea de comandos del sistema operativo.\n",
      "> + Soporte de m\u00faltiples procesos paralelos back-end, que pueden ejecutarse en cluster computacionales o en servicios en la nube como Amazon EE2."
     ]
    },
    {
     "cell_type": "markdown",
     "metadata": {},
     "source": [
      "## ** M\u00f3dulos **\n",
      "> Existe agrupaciones de funciones y otros elementos de utilidad en lo que se conoce como \"m\u00f3dulos\". Es posible incluir un m\u00f3dulo de la siguiente manera:\n"
     ]
    },
    {
     "cell_type": "code",
     "collapsed": false,
     "input": [
      "import math\n",
      "\n",
      "#Con lo que podremos utilizar sus elementos utilizando la siguiente sintaxis:\n",
      "valor = math.factorial(5)\n",
      "\n",
      "#Tambi\u00e9n es posible importar solo algunas partes de un m\u00f3dulo:\n",
      "from math import factorial\n",
      "valor = factorial(5)\n",
      "\n",
      "#El definirlo de una manera u otra es a la hora de no tener problemas con la definici\u00f3n de variables y funciones\n",
      "\n",
      "#Tambi\u00e9n podemos importar m\u00f3dulos con un nombre distinto, por ejemplo:\n",
      "import numpy as np"
     ],
     "language": "python",
     "metadata": {},
     "outputs": [],
     "prompt_number": 2
    },
    {
     "cell_type": "code",
     "collapsed": false,
     "input": [],
     "language": "python",
     "metadata": {},
     "outputs": []
    }
   ],
   "metadata": {}
  }
 ]
}