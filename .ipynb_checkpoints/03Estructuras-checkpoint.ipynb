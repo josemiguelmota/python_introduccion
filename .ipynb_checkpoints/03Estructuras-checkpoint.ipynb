{
 "metadata": {
  "name": ""
 },
 "nbformat": 3,
 "nbformat_minor": 0,
 "worksheets": [
  {
   "cells": [
    {
     "cell_type": "markdown",
     "metadata": {},
     "source": [
      "> # ** Estructuras de Control**\n",
      "\n",
      "\n",
      "> ## ** Estructura de control: if **"
     ]
    },
    {
     "cell_type": "code",
     "collapsed": false,
     "input": [
      "n = 5\n",
      "if n % 2  == 0:\n",
      "    print \"el numero es par\"\n",
      "else:\n",
      "    print \"el n\u00famero es impar\""
     ],
     "language": "python",
     "metadata": {},
     "outputs": [
      {
       "output_type": "stream",
       "stream": "stdout",
       "text": [
        "el n\u00famero es impar\n"
       ]
      }
     ],
     "prompt_number": 4
    },
    {
     "cell_type": "code",
     "collapsed": false,
     "input": [
      "#si hay m\u00e1s caso de comparaci\u00f3n podemos utilizar elif\n",
      "nombre = \"Jose\"\n",
      "if nombre == \"Miguel\":\n",
      "    print \"Ing. aeron\u00e1utico\"\n",
      "elif nombre == \"Jose\":\n",
      "    print \"Ing. inform\u00e1tico\"\n",
      "else:\n",
      "    print \"Ser\u00e1 de empresariales\u2026\""
     ],
     "language": "python",
     "metadata": {},
     "outputs": [
      {
       "output_type": "stream",
       "stream": "stdout",
       "text": [
        "Ing. inform\u00e1tico\n"
       ]
      }
     ],
     "prompt_number": 5
    },
    {
     "cell_type": "code",
     "collapsed": false,
     "input": [
      "# IF expresi\u00f3n lambda\n",
      "num = 5\n",
      "var = \"par\" if (num %2 ==0) else \"impar\"\n",
      "print var\n"
     ],
     "language": "python",
     "metadata": {},
     "outputs": [
      {
       "output_type": "stream",
       "stream": "stdout",
       "text": [
        "impar\n"
       ]
      }
     ],
     "prompt_number": 8
    },
    {
     "cell_type": "markdown",
     "metadata": {},
     "source": [
      "> ## ** Estructura de control: while **"
     ]
    },
    {
     "cell_type": "code",
     "collapsed": false,
     "input": [
      "# Fibonacci\n",
      "# Comprobar la asignaci\u00f3n como la realizamos.\n",
      "a, b = 0, 1\n",
      "while b < 1000:\n",
      "\t\tprint b,\n",
      "\t\ta, b = b, a + b"
     ],
     "language": "python",
     "metadata": {},
     "outputs": [
      {
       "output_type": "stream",
       "stream": "stdout",
       "text": [
        "1 1 2 3 5 8 13 21 34 55 89 144 233 377 610 987\n"
       ]
      }
     ],
     "prompt_number": 10
    },
    {
     "cell_type": "code",
     "collapsed": false,
     "input": [
      "> ## ** Estructura de control: for **"
     ],
     "language": "python",
     "metadata": {},
     "outputs": []
    },
    {
     "cell_type": "code",
     "collapsed": false,
     "input": [
      "lista = [1, 2, 3, 4, 5]\n",
      "for elemento in lista:\n",
      "    print \"Elemento: \", elemento\n",
      "        \n",
      "for posicion, valor in enumerate(lista):\n",
      "    print \"la posici\u00f3n \", posicion, \"est\u00e1 ocupado por \", valor\n"
     ],
     "language": "python",
     "metadata": {},
     "outputs": [
      {
       "output_type": "stream",
       "stream": "stdout",
       "text": [
        "Elemento:  1\n",
        "Elemento:  2\n",
        "Elemento:  3\n",
        "Elemento:  4\n",
        "Elemento:  5\n",
        "la posici\u00f3n  0 est\u00e1 ocupado por  1\n",
        "la posici\u00f3n  1 est\u00e1 ocupado por  2\n",
        "la posici\u00f3n  2 est\u00e1 ocupado por  3\n",
        "la posici\u00f3n  3 est\u00e1 ocupado por  4\n",
        "la posici\u00f3n  4 est\u00e1 ocupado por  5\n"
       ]
      }
     ],
     "prompt_number": 11
    },
    {
     "cell_type": "code",
     "collapsed": false,
     "input": [
      "diccionario = {\"Uno\" : 1, \"Dos\" :2, \"Tres\" : 3}\n",
      "for clave in diccionario:\n",
      "    print clave ,  \"es un \", diccionario[clave]\n",
      "for clave, valor in diccionario.items():\n",
      "    print clave, \" tiene el valor \", valor\n"
     ],
     "language": "python",
     "metadata": {},
     "outputs": [
      {
       "output_type": "stream",
       "stream": "stdout",
       "text": [
        "Dos es un  2\n",
        "Tres es un  3\n",
        "Uno es un  1\n",
        "Dos  tiene el valor  2\n",
        "Tres  tiene el valor  3\n",
        "Uno  tiene el valor  1\n"
       ]
      }
     ],
     "prompt_number": 12
    },
    {
     "cell_type": "markdown",
     "metadata": {},
     "source": [
      "> ## ** Funciones **"
     ]
    },
    {
     "cell_type": "code",
     "collapsed": false,
     "input": [
      "# Definici\u00f3n de una funci\u00f3n\n",
      "def mifuncion(param1, param2):\n",
      "    print param1\n",
      "    print param2\n",
      "    \n",
      "print \"\\nPrimera opci\u00f3n\"\n",
      "mifuncion (\"uno\", \"dos\")\n",
      "\n",
      "# Definici\u00f3n de una funci\u00f3n con valores por defecto\n",
      "def mifuncion(param1, param2 = \"dos\"):\n",
      "    print param1\n",
      "    print param2\n",
      "print \"\\nSegunda opci\u00f3n\"\n",
      "mifuncion (\"uno\")\n",
      "\n",
      "# Definici\u00f3n de una funci\u00f3n devoluci\u00f3n de valores\n",
      "def mifuncion(param1, param2):\n",
      "    return param1 + param2\n",
      "    \n",
      "print \"\\nTercera opci\u00f3n\"\n",
      "print \"Resultado \", mifuncion (3,4)\n",
      "\n",
      "\n",
      "#Trabajando con tuplas de elementos\n",
      "def descomponer(entero):\n",
      "    parte_entera = entero // 1\n",
      "    parte_decimal = entero - parte_entera\n",
      "    return (parte_entera, parte_decimal)\n",
      "\n",
      "entera, decimal = descomponer(2.5)\n",
      "\n",
      "print \"\\nTrabajando con tuplas: \", entera, \" y \" ,decimal\n",
      "\n"
     ],
     "language": "python",
     "metadata": {},
     "outputs": [
      {
       "output_type": "stream",
       "stream": "stdout",
       "text": [
        "\n",
        "Primera opci\u00f3n\n",
        "uno\n",
        "dos\n",
        "\n",
        "Segunda opci\u00f3n\n",
        "uno\n",
        "dos\n",
        "\n",
        "Tercera opci\u00f3n\n",
        "Resultado  7\n",
        "\n",
        "Trabajando con tuplas:  2.0  y  0.5\n"
       ]
      }
     ],
     "prompt_number": 6
    },
    {
     "cell_type": "markdown",
     "metadata": {},
     "source": [
      "> ## ** Paso de par\u00e1metros por Valor o por Referencia **\n",
      "Para este ejemplo ser\u00eda bueno probar lo que se nos comenta en esta [web](http://elclubdelautodidacta.es/wp/2012/09/python-el-sagrado-misterio-de-la-inmutabilidad/) en este [editor online](http://www.pythontutor.com/visualize.html#mode=edit) para comprobar el funcionamiento de Python a este respecto. Recordar que id() significa el identificador del elemento que estemos usando."
     ]
    },
    {
     "cell_type": "markdown",
     "metadata": {},
     "source": [
      "> ## ** Entrada y Salida **"
     ]
    },
    {
     "cell_type": "code",
     "collapsed": false,
     "input": [
      "#La manera m\u00e1s sencilla es con raw_input()\n",
      "nombre = raw_input()\n",
      "print \"Hola\", nombre\n"
     ],
     "language": "python",
     "metadata": {},
     "outputs": [
      {
       "name": "stdout",
       "output_type": "stream",
       "stream": "stdout",
       "text": [
        "aas\n"
       ]
      },
      {
       "output_type": "stream",
       "stream": "stdout",
       "text": [
        "Hola aas\n"
       ]
      }
     ],
     "prompt_number": 3
    },
    {
     "cell_type": "code",
     "collapsed": false,
     "input": [
      "# Por otro lado, para leer un fichero de texto primero tenemos que abrirlo usando la funci\u00f3n open.\n",
      "fichero = open('nombre', 'r')\n",
      "\n",
      "# Ahora podemos trabajar con el fichero, leyendo poco a poco, por l\u00edneas, o todo de una vez:\n",
      "contenido = fichero.read() # Completo\n",
      "contenido = fichero.read(N) # Lee N bytes\n",
      "contenido = fichero.readline() # Lee una l\u00ednea\n",
      "contenido = fichero.readlines() # Lee todas las l\u00edneas en una lista\n",
      "\n",
      "#Otra forma de leer es usando el fichero como si fuera una lista en s\u00ed mismo:\n",
      "for linea in fichero:\n",
      "    print linea"
     ],
     "language": "python",
     "metadata": {},
     "outputs": []
    }
   ],
   "metadata": {}
  }
 ]
}