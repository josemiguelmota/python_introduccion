{
 "metadata": {
  "name": ""
 },
 "nbformat": 3,
 "nbformat_minor": 0,
 "worksheets": [
  {
   "cells": [
    {
     "cell_type": "markdown",
     "metadata": {},
     "source": [
      "# Tipos de datos\n",
      "----\n",
      "### En este Notebook veremos los distintos tipos de datos y como trabajar con ellos\n",
      "\n",
      "\n",
      "## Tipos b\u00e1sicos\n",
      "> **Caracteres**"
     ]
    },
    {
     "cell_type": "code",
     "collapsed": false,
     "input": [
      "a = \"Hola Mundo\"\n",
      "print type(a)"
     ],
     "language": "python",
     "metadata": {},
     "outputs": [
      {
       "output_type": "stream",
       "stream": "stdout",
       "text": [
        "<type 'str'>\n"
       ]
      }
     ],
     "prompt_number": 1
    },
    {
     "cell_type": "markdown",
     "metadata": {},
     "source": [
      "> **N\u00fameros**"
     ]
    },
    {
     "cell_type": "code",
     "collapsed": false,
     "input": [
      "#Enteros\n",
      "a = 3\n",
      "print type (a)\n",
      "\n",
      "#Reales\n",
      "b = 3.0\n",
      "print type (b)\n",
      "\n",
      "#Complejos\n",
      "c = 2+2j\n",
      "print type(c)\n",
      "\n"
     ],
     "language": "python",
     "metadata": {},
     "outputs": [
      {
       "output_type": "stream",
       "stream": "stdout",
       "text": [
        "<type 'int'>\n",
        "<type 'float'>\n",
        "<type 'complex'>\n"
       ]
      }
     ],
     "prompt_number": 5
    },
    {
     "cell_type": "markdown",
     "metadata": {},
     "source": [
      "> ** Booleanos**"
     ]
    },
    {
     "cell_type": "code",
     "collapsed": false,
     "input": [
      "a = True\n",
      "b = False\n",
      "print type(a)\n",
      "print type(b)"
     ],
     "language": "python",
     "metadata": {},
     "outputs": [
      {
       "output_type": "stream",
       "stream": "stdout",
       "text": [
        "<type 'bool'>\n",
        "<type 'bool'>\n"
       ]
      }
     ],
     "prompt_number": 6
    },
    {
     "cell_type": "markdown",
     "metadata": {},
     "source": [
      "> # ** LISTAS (Actualizables)**\n",
      "> B\u00e1sicamente, una lista es una colecci\u00f3n ordenada de objetos, similar al array din\u00e1mico empleado en otros lenguajes de programaci\u00f3n. Puede contener distintos tipos de objetos, es mutable y Python nos ofrece una serie de funciones y m\u00e9todos integrados para realizar diferentes tipos de operaciones. Para definir una lista se utilizan corchetes **[ ]** entre los cuales pueden aparecer diferentes valores separados por comas. \n",
      "\n"
     ]
    },
    {
     "cell_type": "code",
     "collapsed": false,
     "input": [
      "lista = [\"uno\", \"dos\", \"tres\"]\n",
      "lista"
     ],
     "language": "python",
     "metadata": {},
     "outputs": [
      {
       "metadata": {},
       "output_type": "pyout",
       "prompt_number": 8,
       "text": [
        "['uno', 'dos', 'tres']"
       ]
      }
     ],
     "prompt_number": 8
    },
    {
     "cell_type": "markdown",
     "metadata": {},
     "source": [
      "> La principal diferencia con los array din\u00e1micos de otros lenguajes, **es que las listas en python permiten almacenar datos de diferentes tipos** en cada una de las posiciones de esta.\n"
     ]
    },
    {
     "cell_type": "code",
     "collapsed": false,
     "input": [
      "lista_mixta = [\"uno\", 2, \"tres\"]\n",
      "lista_mixta"
     ],
     "language": "python",
     "metadata": {},
     "outputs": []
    },
    {
     "cell_type": "markdown",
     "metadata": {},
     "source": [
      "> Las listas son iterables, es decir, podemos recorrer sus elementos empleando un bucle"
     ]
    },
    {
     "cell_type": "code",
     "collapsed": false,
     "input": [
      "for elemento in lista_mixta:\n",
      "    print elemento"
     ],
     "language": "python",
     "metadata": {},
     "outputs": [
      {
       "output_type": "stream",
       "stream": "stdout",
       "text": [
        "uno\n",
        "2\n",
        "tres\n"
       ]
      }
     ],
     "prompt_number": 10
    },
    {
     "cell_type": "markdown",
     "metadata": {},
     "source": [
      "> Las listas pueden ser accedidas y modificados mediante su indice, empezando desde 0"
     ]
    },
    {
     "cell_type": "code",
     "collapsed": false,
     "input": [
      "print lista_mixta\n",
      "print lista_mixta[1]\n",
      "lista_mixta[1] = \"dos\"\n",
      "print lista_mixta"
     ],
     "language": "python",
     "metadata": {},
     "outputs": [
      {
       "output_type": "stream",
       "stream": "stdout",
       "text": [
        "['uno', 'dos', 'tres']\n",
        "dos\n",
        "['uno', 'dos', 'tres']\n"
       ]
      }
     ],
     "prompt_number": 13
    },
    {
     "cell_type": "markdown",
     "metadata": {},
     "source": [
      "> ** OPERADORES DE LISTA **\n"
     ]
    },
    {
     "cell_type": "code",
     "collapsed": false,
     "input": [
      "# +: Se pueden concatenar con el operador +\n",
      "print \"\\nUsando el operador +\"\n",
      "lista_uno =  [1, 2, 3]\n",
      "lista_dos = [4, 5, 6]\n",
      "lista_final = lista_uno + lista_dos\n",
      "print lista_final\n",
      "print lista_uno\n",
      "print lista_dos\n",
      "\n",
      "# extend: Podemos utilizar extend para ampliar una lista existente\n",
      "lista_uno.extend(lista_dos)\n",
      "print \"\\nUsando el operador extend()\"\n",
      "print lista_uno\n",
      "print lista_dos\n",
      "\n",
      "# in: Utilizamos in para saber si un elemento pertenece a una lista\n",
      "print \"\\nUsando in\"\n",
      "print 3 in lista_uno\n",
      "print 3 in lista_dos\n",
      "\n",
      "# +=: Utilizamos para a\u00f1adir a una lista\n",
      "print \"\\nUsando +=\"\n",
      "print lista_uno\n",
      "lista_uno += [9]\n",
      "print lista_uno\n",
      "\n",
      "# *: Funciona como un operador repetidor en las listas\n",
      "print \"\\nUsando *\"\n",
      "lista = [1, 2]\n",
      "print lista\n",
      "lista = lista *3\n",
      "print lista\n",
      "\n"
     ],
     "language": "python",
     "metadata": {},
     "outputs": [
      {
       "output_type": "stream",
       "stream": "stdout",
       "text": [
        "\n",
        "Usando el operador +\n",
        "[1, 2, 3, 4, 5, 6]\n",
        "[1, 2, 3]\n",
        "[4, 5, 6]\n",
        "\n",
        "Usando el operador extend()\n",
        "[1, 2, 3, 4, 5, 6]\n",
        "[4, 5, 6]\n",
        "\n",
        "Usando in\n",
        "True\n",
        "False\n",
        "\n",
        "Usando +=\n",
        "[1, 2, 3, 4, 5, 6]\n",
        "[1, 2, 3, 4, 5, 6, 9]\n",
        "\n",
        "Usando *\n",
        "[1, 2]\n",
        "[1, 2, 1, 2, 1, 2]\n"
       ]
      }
     ],
     "prompt_number": 25
    },
    {
     "cell_type": "markdown",
     "metadata": {},
     "source": [
      "> Otros operadores de listas\n",
      "> + **append(object)**: A\u00f1ade un objeto al final de la lista.\n",
      "> + **count(value)**: Devuelve el n\u00famero de veces que se encontr\u00f3 value.\n",
      "> + **extend([iterable])**: A\u00f1ade al final de la lista el contenido de la lista \u201citerable\u201d.\n",
      "> + **insert (index, object )**: Inserta el objeto a la lista en la posici\u00f3n index.\n",
      "> + **pop(index)**: Devuelve el valor de la posici\u00f3n index y lo elimina de la lista, si no se especifica la posici\u00f3n, se utiliza el \u00faltimo elemento de la lista.\n",
      "> + **remove(value)**: Eliminar la primera ocurrencia de value.\n",
      "> + **reverse()**: Invierte la lista. Esta funci\u00f3n trabaja sobre la propia lista desde la que se invoca el m\u00e9todo, no sobre una copia.\n",
      "\n",
      "\n",
      "> ##Trabajando con Rangos en listas\n",
      "> Una cursiosidad al trabajar con [], es que podemos definir porciones de elementos **[inicio, fin, salto]**. Una cursiosidad es que podemos utilizar n\u00famero negativos para recorrer la lista en sentido inverso"
     ]
    },
    {
     "cell_type": "code",
     "collapsed": false,
     "input": [
      "lista = [\"uno\", \"dos\", \"tres\", \"cuatro\"]\n",
      "\n",
      "# Accediendo a un elemento\n",
      "print lista [2]\n",
      "\n",
      "# Uso de sentido inverso\n",
      "print lista [-1]\n",
      "\n",
      "# Uso de un rango\n",
      "print lista [1:3]\n",
      "\n",
      "# Uso de un salto\n",
      "print lista[0:3:2]\n",
      "print lista[::2]\n",
      "print lista [::-1]"
     ],
     "language": "python",
     "metadata": {},
     "outputs": [
      {
       "output_type": "stream",
       "stream": "stdout",
       "text": [
        "tres\n",
        "cuatro\n",
        "['dos', 'tres']\n",
        "['uno', 'tres']\n",
        "['uno', 'tres']\n",
        "['cuatro', 'tres', 'dos', 'uno']\n"
       ]
      }
     ],
     "prompt_number": 31
    },
    {
     "cell_type": "markdown",
     "metadata": {},
     "source": [
      "> ##**Listas por compresi\u00f3n **"
     ]
    },
    {
     "cell_type": "code",
     "collapsed": false,
     "input": [
      "lista = range(10)\n",
      "print lista\n",
      "\n",
      "#Si quisi\u00e9ramos que la lista tenga los n\u00fameros multiplicados por 2, podr\u00edamos usar una lista por comprensi\u00f3n de la siguiente manera (explicar cada parte):\n",
      "lista = [ 2 * x for x in range(10)]\n",
      "print lista\n",
      "\n",
      "#Es posible a\u00f1adir criterios sobre x, por ejemplo solo incluir elementos pares:\n",
      "lista = [ 2 * x for x in range(10) if x % 2 == 0]\n",
      "print lista\n"
     ],
     "language": "python",
     "metadata": {},
     "outputs": [
      {
       "output_type": "stream",
       "stream": "stdout",
       "text": [
        "[0, 1, 2, 3, 4, 5, 6, 7, 8, 9]\n",
        "[0, 2, 4, 6, 8, 10, 12, 14, 16, 18]\n",
        "[0, 4, 8, 12, 16]\n"
       ]
      }
     ],
     "prompt_number": 3
    },
    {
     "cell_type": "markdown",
     "metadata": {},
     "source": [
      "> # ** TUPLAS**\n",
      "> Son listas inmutables despu\u00e9s de su creaci\u00f3n, van entre par\u00e9ntesis y se les aplican conceptos de las listas.\n"
     ]
    },
    {
     "cell_type": "code",
     "collapsed": false,
     "input": [
      "# Podemos convertir una lista en tupla\n",
      "lista = [\"uno\", \"dos\", \"tres\", \"cuatro\"]\n",
      "tupla = tuple(lista)\n",
      "print \"\\n lista -> tupla\"\n",
      "print lista\n",
      "print tupla\n",
      "\n",
      "# Tambi\u00e9n podemos convertir una tupla en lista\n",
      "print \"\\ntupla -> lista\"\n",
      "nueva_lista = list(tupla)\n",
      "print tupla\n",
      "print nueva_lista"
     ],
     "language": "python",
     "metadata": {},
     "outputs": [
      {
       "output_type": "stream",
       "stream": "stdout",
       "text": [
        "\n",
        " lista -> tupla\n",
        "['uno', 'dos', 'tres', 'cuatro']\n",
        "('uno', 'dos', 'tres', 'cuatro')\n",
        "\n",
        "tupla -> lista\n",
        "('uno', 'dos', 'tres', 'cuatro')\n",
        "['uno', 'dos', 'tres', 'cuatro']\n"
       ]
      }
     ],
     "prompt_number": 37
    },
    {
     "cell_type": "code",
     "collapsed": false,
     "input": [],
     "language": "python",
     "metadata": {},
     "outputs": []
    },
    {
     "cell_type": "markdown",
     "metadata": {},
     "source": [
      "> # ** DICCIONARIO**\n",
      "> Asociaci\u00f3n de valor-clave. Van entre llaves\n"
     ]
    },
    {
     "cell_type": "code",
     "collapsed": false,
     "input": [
      "d = {\"Uno\": 1, \"Dos\": 2}\n",
      "print d\n",
      "print d[\"Uno\"]\n",
      "\n",
      "print \"\\n Impresi\u00f3n de los valores\"\n",
      "print d.values()\n",
      "\n",
      "print \"\\n Comprobar si tiene un determinado valor\"\n",
      "print d.has_key('Uno')\n",
      "print d.has_key('Tres')\n",
      "\n",
      "print \"\\n Quitar un valor\"\n",
      "d.pop(\"Uno\")\n",
      "print d"
     ],
     "language": "python",
     "metadata": {},
     "outputs": [
      {
       "output_type": "stream",
       "stream": "stdout",
       "text": [
        "{'Dos': 2, 'Uno': 1}\n",
        "1\n",
        "\n",
        " Impresi\u00f3n de los valores\n",
        "[2, 1]\n",
        "\n",
        " Comprobar si tiene un determinado valor\n",
        "True\n",
        "False\n",
        "\n",
        " Quitar un valor\n",
        "{'Dos': 2}\n"
       ]
      }
     ],
     "prompt_number": 45
    },
    {
     "cell_type": "code",
     "collapsed": false,
     "input": [],
     "language": "python",
     "metadata": {},
     "outputs": []
    },
    {
     "cell_type": "markdown",
     "metadata": {},
     "source": [
      "> # ** OBJETO NONE**\n",
      "> Python proporciona un objeto especial llamado **None**, que siempre es considerado como falso. Se puede usar como comparador de valor nulo, con ** == None**. El valor **None** es util cuando no se desea especificar o asignar un valor y por consiguiente a su tipo. Al asignar 0 o \"\" una variable se crear\u00e1 de tipo **int** o tipo **str**"
     ]
    },
    {
     "cell_type": "code",
     "collapsed": false,
     "input": [
      "a = None\n",
      "b = \"\"\n",
      "c = 0\n",
      "print \"El tipo de a: \" + str(type(a))\n",
      "print \"El tipo de b: \" + str(type(b))\n",
      "print \"El tipo de c: \" + str(type(c))\n",
      "\n"
     ],
     "language": "python",
     "metadata": {},
     "outputs": [
      {
       "output_type": "stream",
       "stream": "stdout",
       "text": [
        "El tipo de a: <type 'NoneType'>\n",
        "El tipo de b: <type 'str'>\n",
        "El tipo de c: <type 'int'>\n"
       ]
      }
     ],
     "prompt_number": 15
    },
    {
     "cell_type": "code",
     "collapsed": false,
     "input": [],
     "language": "python",
     "metadata": {},
     "outputs": []
    },
    {
     "cell_type": "code",
     "collapsed": false,
     "input": [],
     "language": "python",
     "metadata": {},
     "outputs": []
    },
    {
     "cell_type": "code",
     "collapsed": false,
     "input": [],
     "language": "python",
     "metadata": {},
     "outputs": []
    }
   ],
   "metadata": {}
  }
 ]
}