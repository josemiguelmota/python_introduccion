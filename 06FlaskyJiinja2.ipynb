{
 "metadata": {
  "name": ""
 },
 "nbformat": 3,
 "nbformat_minor": 0,
 "worksheets": [
  {
   "cells": [
    {
     "cell_type": "markdown",
     "metadata": {},
     "source": [
      "# Flask y Jinja2\n",
      "\n",
      "Con la idea de dar un aspecto \"m\u00e1s visual\" a los resultados obtenidos con el acceso a las APIs, vamos a ver Flask como framework Web. Existe Django, seguramente m\u00e1s pontente pero tambi\u00e9n algo m\u00e1s complicado para empezar.\n",
      "\n",
      "Para instalarlo\n",
      "```\n",
      "pip install flask\n",
      "```"
     ]
    },
    {
     "cell_type": "code",
     "collapsed": false,
     "input": [
      "#Nuestro primer ejemplo\n",
      "from flask import Flask\n",
      "app = Flask(__name__)\n",
      "\n",
      "#Esto es el router donde indicamos quien responde a cada direcci\u00f3n.\n",
      "#Vemos coo utilizamos los decoradors en este Ejemplo\n",
      "\n",
      "@app.route('/')\n",
      "def index():\n",
      "    return '<h1>Hello World!</h1>'\n",
      "\n",
      "#Esto lo hacemos para definir que si la funci\u00f3n es ejecuta se realice lo siguient\n",
      "#de esta manera si se utiliza como m\u00f3dulo de otro programa no se ejecutar\u00e1 nada por defecto\n",
      "\n",
      "if __name__ == '__main__':\n",
      "    app.run(debug=True)"
     ],
     "language": "python",
     "metadata": {},
     "outputs": [
      {
       "ename": "SystemExit",
       "evalue": "1",
       "output_type": "pyerr",
       "traceback": [
        "An exception has occurred, use %tb to see the full traceback.\n",
        "\u001b[0;31mSystemExit\u001b[0m\u001b[0;31m:\u001b[0m 1\n"
       ]
      },
      {
       "output_type": "stream",
       "stream": "stderr",
       "text": [
        "To exit: use 'exit', 'quit', or Ctrl-D.\n"
       ]
      }
     ],
     "prompt_number": 1
    },
    {
     "cell_type": "code",
     "collapsed": false,
     "input": [
      "#Segundo Ejemplo\n",
      "#En este caso obtenemos par\u00e1metros pasados en la l\u00ednea de la url\n",
      "from flask import Flask\n",
      "app = Flask(__name__)\n",
      "\n",
      "@app.route('/')\n",
      "def index():\n",
      "    return '<h1>Hello World!</h1>'class IdentityDecorator(object):\n",
      "    def __init__(self, func):\n",
      "        self.func = func\n",
      "\n",
      "    def __call__(self):\n",
      "        class IdentityDecorator(object):\n",
      "            def __init__(self, func):\n",
      "                self.func = func\n",
      "\n",
      "            def __call__(self):\n",
      "                self.func()\n",
      "\n",
      "\n",
      "@IdentityDecorator\n",
      "def a_function():\n",
      "    print \"I'm a normal function.\"\n",
      "\n",
      "\n",
      "a_function()\n",
      "\n",
      "@app.route('/user/<name>')\n",
      "def user(name):\n",
      "    return '<h1>Hello, %s!</h1>' % name\n",
      "\n",
      "if __name__ == '__main__':\n",
      "    app.run(debug=True)"
     ],
     "language": "python",
     "metadata": {},
     "outputs": []
    },
    {
     "cell_type": "markdown",
     "metadata": {},
     "source": [
      " ### Es importante recordar que flask busca las plantillas en la carpeta  **templates**"
     ]
    },
    {
     "cell_type": "code",
     "collapsed": false,
     "input": [
      "#Tercer Ejemplo\n",
      "\n",
      "#!/usr/bin/python\n",
      "# -*- coding: utf-8 -*-\n",
      "#Segundo Ejemplo\n",
      "#En este caso obtenemos par\u00e1metros pasados en la l\u00ednea de la url\n",
      "from flask import Flask, render_template\n",
      "\n",
      "app = Flask(__name__)\n",
      "\n",
      "@app.route('/')\n",
      "def index():\n",
      "    return render_template('index.html')\n",
      "@app.route('/user/<name>')\n",
      "def user(name):\n",
      "    return render_template('user.html', name=name)\n",
      "\n",
      "if __name__ == \"__main__\":\n",
      "    app.run(debug=True)"
     ],
     "language": "python",
     "metadata": {},
     "outputs": []
    },
    {
     "cell_type": "markdown",
     "metadata": {},
     "source": [
      "La plantilla user.html es:\n",
      "```\n",
      "<h1> Plantilla del usuarios {{name}} </h1>\n",
      "```"
     ]
    },
    {
     "cell_type": "code",
     "collapsed": false,
     "input": [
      "#Cuarto Ejemplo\n",
      "\n",
      "#!/usr/bin/python\n",
      "# -*- coding: utf-8 -*-\n",
      "#Segundo Ejemplo\n",
      "#En este caso obtenemos par\u00e1metros pasados en la l\u00ednea de la url\n",
      "from flask import Flask, render_template\n",
      "\n",
      "app = Flask(__name__)\n",
      "\n",
      "@app.route('/')\n",
      "def index():\n",
      "    return render_template('index.html')\n",
      "@app.route('/user/<name>')\n",
      "def user(name):\n",
      "    return render_template('user.html', name=name)\n",
      "\n",
      "@app.route('/users')\n",
      "def users():\n",
      "    lalista = ['Miguel', 'Juan', 'Andres']\n",
      "    return render_template('users.html', lista=lalista)\n",
      "    "
     ],
     "language": "python",
     "metadata": {},
     "outputs": []
    },
    {
     "cell_type": "markdown",
     "metadata": {},
     "source": [
      "La plantilal users.html es:\n",
      "```\n",
      "<h1> Lista de usuarios </h1>\n",
      "<ul>\n",
      "  {% for usuarios in lista %}\n",
      "  <li> {{ usuarios }} </li> \n",
      "  {% endfor %}\n",
      "</ul>\n",
      "```"
     ]
    },
    {
     "cell_type": "markdown",
     "metadata": {},
     "source": [
      "## Extensiones de Flask \n",
      "> Flask tiene extensiones que podemos utilizar para usar por ejemplo el API de Google Maps."
     ]
    },
    {
     "cell_type": "code",
     "collapsed": false,
     "input": [
      "from flask import Flask, render_template\n",
      "from flask.ext.googlemaps import GoogleMaps\n",
      "from flask.ext.googlemaps import Map\n",
      "\n",
      "app = Flask(__name__)\n",
      "GoogleMaps(app)\n",
      "\n",
      "\n",
      "@app.route(\"/\")\n",
      "def mapview():\n",
      "    mymap = Map(\n",
      "        identifier=\"view-side\",\n",
      "        lat=40.3450396,\n",
      "        lng=-3.6517684,\n",
      "        markers=[(36.6703957, -5.3394454),(40.3120713, -3.8890049)],\n",
      "        style=\"height:800px;width:800px;margin:0;\"\n",
      "    ) \n",
      "    return render_template('template2.html', mymap=mymap)\n",
      "\n",
      "\n",
      "if __name__ == \"__main__\":\n",
      "    app.run(debug=True)"
     ],
     "language": "python",
     "metadata": {},
     "outputs": []
    },
    {
     "cell_type": "markdown",
     "metadata": {},
     "source": [
      "La plantilla template2.html es:\n",
      "```\n",
      "<html>\n",
      "<head>\n",
      "   {{mymap.js}}\n",
      "</head>\n",
      "<body>\n",
      "<div width=800, height=800>{{mymap.html}}</div>\n",
      "\n",
      "</body>\n",
      "</html>\n",
      "```"
     ]
    },
    {
     "cell_type": "markdown",
     "metadata": {},
     "source": [
      "Enlaces de Interes:\n",
      "+ [Jinja2](http://jinja.pocoo.org/docs/dev/templates/)"
     ]
    }
   ],
   "metadata": {}
  }
 ]
}